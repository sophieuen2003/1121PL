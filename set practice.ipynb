{
 "cells": [
  {
   "cell_type": "code",
   "execution_count": 2,
   "id": "e6d596cc",
   "metadata": {},
   "outputs": [],
   "source": [
    "import pandas as pd\n",
    "\n",
    "# 設定 CSV 檔案的路徑\n",
    "csv_file_path_fin = 'Best Sellers List of Financial.csv'\n",
    "csv_file_path_bur = 'Best Sellers List of Financial in Berkeley.csv'\n",
    "\n",
    "\n",
    "# 使用 pandas 的 read_csv 函式讀取 CSV 檔案並將其轉換為 DataFrame\n",
    "df_fin = pd.read_csv(csv_file_path_fin)\n",
    "df_bur = pd.read_csv(csv_file_path_bur)"
   ]
  },
  {
   "cell_type": "code",
   "execution_count": 4,
   "id": "10391c77",
   "metadata": {},
   "outputs": [
    {
     "name": "stdout",
     "output_type": "stream",
     "text": [
      "{'國際金融稽核師研習指南 (第二冊)', '動產暨有價證券鑑價', '不動產估價理論方法與案例分析', 'The Laws and Regulations of Bank Internal Control (2022)'}\n"
     ]
    }
   ],
   "source": [
    "# 從 DataFrame 中取出書本名稱欄位，假設欄位名稱為 '書本名稱'\n",
    "book_names_fin = df_fin['書名']\n",
    "book_names_bur = df_bur['書名']\n",
    "\n",
    "\n",
    "# 將書本名稱轉換為 set 資料型態\n",
    "book_names_fin_set = set(book_names_fin)\n",
    "book_names_bur_set = set(book_names_bur)\n",
    "\n",
    "#同時出現在博客來和金融院的暢銷書及有哪幾本\n",
    "print(book_names_fin_set & book_names_bur_set)"
   ]
  },
  {
   "cell_type": "code",
   "execution_count": null,
   "id": "95d00c69",
   "metadata": {},
   "outputs": [],
   "source": []
  }
 ],
 "metadata": {
  "kernelspec": {
   "display_name": "Python 3 (ipykernel)",
   "language": "python",
   "name": "python3"
  },
  "language_info": {
   "codemirror_mode": {
    "name": "ipython",
    "version": 3
   },
   "file_extension": ".py",
   "mimetype": "text/x-python",
   "name": "python",
   "nbconvert_exporter": "python",
   "pygments_lexer": "ipython3",
   "version": "3.11.3"
  }
 },
 "nbformat": 4,
 "nbformat_minor": 5
}
