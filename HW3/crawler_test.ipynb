{
 "cells": [
  {
   "cell_type": "code",
   "execution_count": null,
   "id": "dca06cc1",
   "metadata": {},
   "outputs": [],
   "source": [
    "import requests\n",
    "from bs4 import BeautifulSoup\n",
    "\n",
    "# 定义抓取的页数\n",
    "pages_to_scrape = 10\n",
    "url = 'https://www.ptt.cc/bbs/Gossiping/index.html'\n",
    "\n",
    "# 创建一个会话，处理登录等操作（如果需要）\n",
    "session = requests.Session()\n",
    "# 模拟年龄验证\n",
    "payload = {\n",
    "    'from': '/bbs/Gossiping/index.html',\n",
    "    'yes': 'yes'\n",
    "}\n",
    "session.post('https://www.ptt.cc/ask/over18', data=payload)\n",
    "\n",
    "for i in range(pages_to_scrape):\n",
    "    response = session.get(url)\n",
    "    soup = BeautifulSoup(response.text, 'html.parser')\n",
    "    \n",
    "    # 获取文章标题和链接\n",
    "    articles = soup.find_all('div', class_='title')\n",
    "    for article in articles:\n",
    "        article_title = article.text.strip()\n",
    "        article_link = \"https://www.ptt.cc\" + article.a['href']\n",
    "        print(f\"标题: {article_title}\\n链接: {article_link}\\n\")\n",
    "    \n",
    "    # 获取下一页的链接\n",
    "    prev_page = soup.find_all('a', class_='btn wide')[1]\n",
    "    url = \"https://www.ptt.cc\" + prev_page['href']"
   ]
  }
 ],
 "metadata": {
  "kernelspec": {
   "display_name": "Python 3 (ipykernel)",
   "language": "python",
   "name": "python3"
  },
  "language_info": {
   "codemirror_mode": {
    "name": "ipython",
    "version": 3
   },
   "file_extension": ".py",
   "mimetype": "text/x-python",
   "name": "python",
   "nbconvert_exporter": "python",
   "pygments_lexer": "ipython3",
   "version": "3.11.3"
  }
 },
 "nbformat": 4,
 "nbformat_minor": 5
}
